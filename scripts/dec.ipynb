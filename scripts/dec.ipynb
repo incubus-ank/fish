{
 "cells": [
  {
   "cell_type": "code",
   "execution_count": 1,
   "metadata": {},
   "outputs": [
    {
     "name": "stdout",
     "output_type": "stream",
     "text": [
      "Requirement already satisfied: fiftyone in d:\\dis\\.venv\\lib\\site-packages (0.23.7)\n",
      "Requirement already satisfied: ultralytics in d:\\dis\\.venv\\lib\\site-packages (8.1.37)\n",
      "Requirement already satisfied: aiofiles in d:\\dis\\.venv\\lib\\site-packages (from fiftyone) (23.2.1)\n",
      "Requirement already satisfied: argcomplete in d:\\dis\\.venv\\lib\\site-packages (from fiftyone) (3.2.3)\n",
      "Requirement already satisfied: beautifulsoup4 in d:\\dis\\.venv\\lib\\site-packages (from fiftyone) (4.12.3)\n",
      "Requirement already satisfied: boto3 in d:\\dis\\.venv\\lib\\site-packages (from fiftyone) (1.34.83)\n",
      "Requirement already satisfied: cachetools in d:\\dis\\.venv\\lib\\site-packages (from fiftyone) (5.3.3)\n",
      "Requirement already satisfied: dacite<1.8.0,>=1.6.0 in d:\\dis\\.venv\\lib\\site-packages (from fiftyone) (1.7.0)\n",
      "Requirement already satisfied: Deprecated in d:\\dis\\.venv\\lib\\site-packages (from fiftyone) (1.2.14)\n",
      "Requirement already satisfied: ftfy in d:\\dis\\.venv\\lib\\site-packages (from fiftyone) (6.2.0)\n",
      "Requirement already satisfied: humanize in d:\\dis\\.venv\\lib\\site-packages (from fiftyone) (4.9.0)\n",
      "Requirement already satisfied: hypercorn>=0.13.2 in d:\\dis\\.venv\\lib\\site-packages (from fiftyone) (0.16.0)\n",
      "Requirement already satisfied: Jinja2>=3 in d:\\dis\\.venv\\lib\\site-packages (from fiftyone) (3.1.3)\n",
      "Requirement already satisfied: kaleido!=0.2.1.post1 in d:\\dis\\.venv\\lib\\site-packages (from fiftyone) (0.2.1)\n",
      "Requirement already satisfied: matplotlib in d:\\dis\\.venv\\lib\\site-packages (from fiftyone) (3.8.3)\n",
      "Requirement already satisfied: mongoengine==0.24.2 in d:\\dis\\.venv\\lib\\site-packages (from fiftyone) (0.24.2)\n",
      "Requirement already satisfied: motor>=2.5 in d:\\dis\\.venv\\lib\\site-packages (from fiftyone) (3.4.0)\n",
      "Requirement already satisfied: numpy in d:\\dis\\.venv\\lib\\site-packages (from fiftyone) (1.26.4)\n",
      "Requirement already satisfied: packaging in d:\\dis\\.venv\\lib\\site-packages (from fiftyone) (24.0)\n",
      "Requirement already satisfied: pandas in d:\\dis\\.venv\\lib\\site-packages (from fiftyone) (2.2.1)\n",
      "Requirement already satisfied: Pillow>=6.2 in d:\\dis\\.venv\\lib\\site-packages (from fiftyone) (10.2.0)\n",
      "Requirement already satisfied: plotly>=4.14 in d:\\dis\\.venv\\lib\\site-packages (from fiftyone) (5.20.0)\n",
      "Requirement already satisfied: pprintpp in d:\\dis\\.venv\\lib\\site-packages (from fiftyone) (0.4.0)\n",
      "Requirement already satisfied: psutil in d:\\dis\\.venv\\lib\\site-packages (from fiftyone) (5.9.8)\n",
      "Requirement already satisfied: pymongo>=3.12 in d:\\dis\\.venv\\lib\\site-packages (from fiftyone) (4.6.3)\n",
      "Requirement already satisfied: pytz in d:\\dis\\.venv\\lib\\site-packages (from fiftyone) (2024.1)\n",
      "Requirement already satisfied: PyYAML in d:\\dis\\.venv\\lib\\site-packages (from fiftyone) (6.0.1)\n",
      "Requirement already satisfied: regex in d:\\dis\\.venv\\lib\\site-packages (from fiftyone) (2023.12.25)\n",
      "Requirement already satisfied: retrying in d:\\dis\\.venv\\lib\\site-packages (from fiftyone) (1.3.4)\n",
      "Requirement already satisfied: scikit-learn in d:\\dis\\.venv\\lib\\site-packages (from fiftyone) (1.4.2)\n",
      "Requirement already satisfied: scikit-image in d:\\dis\\.venv\\lib\\site-packages (from fiftyone) (0.23.1)\n",
      "Requirement already satisfied: setuptools in d:\\dis\\.venv\\lib\\site-packages (from fiftyone) (65.5.0)\n",
      "Requirement already satisfied: sseclient-py<2,>=1.7.2 in d:\\dis\\.venv\\lib\\site-packages (from fiftyone) (1.8.0)\n",
      "Requirement already satisfied: sse-starlette<1,>=0.10.3 in d:\\dis\\.venv\\lib\\site-packages (from fiftyone) (0.10.3)\n",
      "Requirement already satisfied: starlette>=0.24.0 in d:\\dis\\.venv\\lib\\site-packages (from fiftyone) (0.37.2)\n",
      "Requirement already satisfied: strawberry-graphql==0.138.1 in d:\\dis\\.venv\\lib\\site-packages (from fiftyone) (0.138.1)\n",
      "Requirement already satisfied: tabulate in d:\\dis\\.venv\\lib\\site-packages (from fiftyone) (0.9.0)\n",
      "Requirement already satisfied: xmltodict in d:\\dis\\.venv\\lib\\site-packages (from fiftyone) (0.13.0)\n",
      "Requirement already satisfied: universal-analytics-python3<2,>=1.0.1 in d:\\dis\\.venv\\lib\\site-packages (from fiftyone) (1.1.1)\n",
      "Requirement already satisfied: fiftyone-brain<0.17,>=0.16.1 in d:\\dis\\.venv\\lib\\site-packages (from fiftyone) (0.16.1)\n",
      "Requirement already satisfied: fiftyone-db<2.0,>=0.4 in d:\\dis\\.venv\\lib\\site-packages (from fiftyone) (1.1.2)\n",
      "Requirement already satisfied: voxel51-eta<0.13,>=0.12.6 in d:\\dis\\.venv\\lib\\site-packages (from fiftyone) (0.12.6)\n",
      "Requirement already satisfied: opencv-python-headless in d:\\dis\\.venv\\lib\\site-packages (from fiftyone) (4.9.0.80)\n",
      "Requirement already satisfied: graphql-core<3.3.0,>=3.2.0 in d:\\dis\\.venv\\lib\\site-packages (from strawberry-graphql==0.138.1->fiftyone) (3.2.3)\n",
      "Requirement already satisfied: python-dateutil<3.0.0,>=2.7.0 in d:\\dis\\.venv\\lib\\site-packages (from strawberry-graphql==0.138.1->fiftyone) (2.9.0.post0)\n",
      "Requirement already satisfied: typing_extensions<5.0.0,>=3.7.4 in d:\\dis\\.venv\\lib\\site-packages (from strawberry-graphql==0.138.1->fiftyone) (4.10.0)\n",
      "Requirement already satisfied: opencv-python>=4.6.0 in d:\\dis\\.venv\\lib\\site-packages (from ultralytics) (4.9.0.80)\n",
      "Requirement already satisfied: requests>=2.23.0 in d:\\dis\\.venv\\lib\\site-packages (from ultralytics) (2.31.0)\n",
      "Requirement already satisfied: scipy>=1.4.1 in d:\\dis\\.venv\\lib\\site-packages (from ultralytics) (1.12.0)\n",
      "Requirement already satisfied: torch>=1.8.0 in d:\\dis\\.venv\\lib\\site-packages (from ultralytics) (2.2.2)\n",
      "Requirement already satisfied: torchvision>=0.9.0 in d:\\dis\\.venv\\lib\\site-packages (from ultralytics) (0.17.2)\n",
      "Requirement already satisfied: tqdm>=4.64.0 in d:\\dis\\.venv\\lib\\site-packages (from ultralytics) (4.66.2)\n",
      "Requirement already satisfied: py-cpuinfo in d:\\dis\\.venv\\lib\\site-packages (from ultralytics) (9.0.0)\n",
      "Requirement already satisfied: thop>=0.1.1 in d:\\dis\\.venv\\lib\\site-packages (from ultralytics) (0.1.1.post2209072238)\n",
      "Requirement already satisfied: seaborn>=0.11.0 in d:\\dis\\.venv\\lib\\site-packages (from ultralytics) (0.13.2)\n",
      "Requirement already satisfied: h11 in d:\\dis\\.venv\\lib\\site-packages (from hypercorn>=0.13.2->fiftyone) (0.14.0)\n",
      "Requirement already satisfied: h2>=3.1.0 in d:\\dis\\.venv\\lib\\site-packages (from hypercorn>=0.13.2->fiftyone) (4.1.0)\n",
      "Requirement already satisfied: priority in d:\\dis\\.venv\\lib\\site-packages (from hypercorn>=0.13.2->fiftyone) (2.0.0)\n",
      "Requirement already satisfied: taskgroup in d:\\dis\\.venv\\lib\\site-packages (from hypercorn>=0.13.2->fiftyone) (0.0.0a4)\n",
      "Requirement already satisfied: tomli in d:\\dis\\.venv\\lib\\site-packages (from hypercorn>=0.13.2->fiftyone) (2.0.1)\n",
      "Requirement already satisfied: wsproto>=0.14.0 in d:\\dis\\.venv\\lib\\site-packages (from hypercorn>=0.13.2->fiftyone) (1.2.0)\n",
      "Requirement already satisfied: MarkupSafe>=2.0 in d:\\dis\\.venv\\lib\\site-packages (from Jinja2>=3->fiftyone) (2.1.5)\n",
      "Requirement already satisfied: contourpy>=1.0.1 in d:\\dis\\.venv\\lib\\site-packages (from matplotlib->fiftyone) (1.2.0)\n",
      "Requirement already satisfied: cycler>=0.10 in d:\\dis\\.venv\\lib\\site-packages (from matplotlib->fiftyone) (0.12.1)\n",
      "Requirement already satisfied: fonttools>=4.22.0 in d:\\dis\\.venv\\lib\\site-packages (from matplotlib->fiftyone) (4.50.0)\n",
      "Requirement already satisfied: kiwisolver>=1.3.1 in d:\\dis\\.venv\\lib\\site-packages (from matplotlib->fiftyone) (1.4.5)\n",
      "Requirement already satisfied: pyparsing>=2.3.1 in d:\\dis\\.venv\\lib\\site-packages (from matplotlib->fiftyone) (3.1.2)\n",
      "Requirement already satisfied: tzdata>=2022.7 in d:\\dis\\.venv\\lib\\site-packages (from pandas->fiftyone) (2024.1)\n",
      "Requirement already satisfied: tenacity>=6.2.0 in d:\\dis\\.venv\\lib\\site-packages (from plotly>=4.14->fiftyone) (8.2.3)\n",
      "Requirement already satisfied: dnspython<3.0.0,>=1.16.0 in d:\\dis\\.venv\\lib\\site-packages (from pymongo>=3.12->fiftyone) (2.6.1)\n",
      "Requirement already satisfied: charset-normalizer<4,>=2 in d:\\dis\\.venv\\lib\\site-packages (from requests>=2.23.0->ultralytics) (3.3.2)\n",
      "Requirement already satisfied: idna<4,>=2.5 in d:\\dis\\.venv\\lib\\site-packages (from requests>=2.23.0->ultralytics) (3.6)\n",
      "Requirement already satisfied: urllib3<3,>=1.21.1 in d:\\dis\\.venv\\lib\\site-packages (from requests>=2.23.0->ultralytics) (2.2.1)\n",
      "Requirement already satisfied: certifi>=2017.4.17 in d:\\dis\\.venv\\lib\\site-packages (from requests>=2.23.0->ultralytics) (2024.2.2)\n",
      "Requirement already satisfied: anyio<5,>=3.4.0 in d:\\dis\\.venv\\lib\\site-packages (from starlette>=0.24.0->fiftyone) (4.3.0)\n",
      "Requirement already satisfied: filelock in d:\\dis\\.venv\\lib\\site-packages (from torch>=1.8.0->ultralytics) (3.13.3)\n",
      "Requirement already satisfied: sympy in d:\\dis\\.venv\\lib\\site-packages (from torch>=1.8.0->ultralytics) (1.12)\n",
      "Requirement already satisfied: networkx in d:\\dis\\.venv\\lib\\site-packages (from torch>=1.8.0->ultralytics) (3.2.1)\n",
      "Requirement already satisfied: fsspec in d:\\dis\\.venv\\lib\\site-packages (from torch>=1.8.0->ultralytics) (2024.3.1)\n",
      "Requirement already satisfied: colorama in d:\\dis\\.venv\\lib\\site-packages (from tqdm>=4.64.0->ultralytics) (0.4.6)\n",
      "Requirement already satisfied: httpx>=0.10.0 in d:\\dis\\.venv\\lib\\site-packages (from universal-analytics-python3<2,>=1.0.1->fiftyone) (0.27.0)\n",
      "Requirement already satisfied: dill in d:\\dis\\.venv\\lib\\site-packages (from voxel51-eta<0.13,>=0.12.6->fiftyone) (0.3.8)\n",
      "Requirement already satisfied: future in d:\\dis\\.venv\\lib\\site-packages (from voxel51-eta<0.13,>=0.12.6->fiftyone) (1.0.0)\n",
      "Requirement already satisfied: glob2 in d:\\dis\\.venv\\lib\\site-packages (from voxel51-eta<0.13,>=0.12.6->fiftyone) (0.7)\n",
      "Requirement already satisfied: jsonlines in d:\\dis\\.venv\\lib\\site-packages (from voxel51-eta<0.13,>=0.12.6->fiftyone) (4.0.0)\n",
      "Requirement already satisfied: py7zr in d:\\dis\\.venv\\lib\\site-packages (from voxel51-eta<0.13,>=0.12.6->fiftyone) (0.21.0)\n",
      "Requirement already satisfied: rarfile in d:\\dis\\.venv\\lib\\site-packages (from voxel51-eta<0.13,>=0.12.6->fiftyone) (4.2)\n",
      "Requirement already satisfied: six in d:\\dis\\.venv\\lib\\site-packages (from voxel51-eta<0.13,>=0.12.6->fiftyone) (1.16.0)\n",
      "Requirement already satisfied: sortedcontainers in d:\\dis\\.venv\\lib\\site-packages (from voxel51-eta<0.13,>=0.12.6->fiftyone) (2.4.0)\n",
      "Requirement already satisfied: tzlocal in d:\\dis\\.venv\\lib\\site-packages (from voxel51-eta<0.13,>=0.12.6->fiftyone) (5.2)\n",
      "Requirement already satisfied: soupsieve>1.2 in d:\\dis\\.venv\\lib\\site-packages (from beautifulsoup4->fiftyone) (2.5)\n",
      "Requirement already satisfied: botocore<1.35.0,>=1.34.83 in d:\\dis\\.venv\\lib\\site-packages (from boto3->fiftyone) (1.34.83)\n",
      "Requirement already satisfied: jmespath<2.0.0,>=0.7.1 in d:\\dis\\.venv\\lib\\site-packages (from boto3->fiftyone) (1.0.1)\n",
      "Requirement already satisfied: s3transfer<0.11.0,>=0.10.0 in d:\\dis\\.venv\\lib\\site-packages (from boto3->fiftyone) (0.10.1)\n",
      "Requirement already satisfied: wrapt<2,>=1.10 in d:\\dis\\.venv\\lib\\site-packages (from Deprecated->fiftyone) (1.16.0)\n",
      "Requirement already satisfied: wcwidth<0.3.0,>=0.2.12 in d:\\dis\\.venv\\lib\\site-packages (from ftfy->fiftyone) (0.2.13)\n",
      "Requirement already satisfied: imageio>=2.33 in d:\\dis\\.venv\\lib\\site-packages (from scikit-image->fiftyone) (2.34.0)\n",
      "Requirement already satisfied: tifffile>=2022.8.12 in d:\\dis\\.venv\\lib\\site-packages (from scikit-image->fiftyone) (2024.2.12)\n",
      "Requirement already satisfied: lazy-loader>=0.4 in d:\\dis\\.venv\\lib\\site-packages (from scikit-image->fiftyone) (0.4)\n",
      "Requirement already satisfied: joblib>=1.2.0 in d:\\dis\\.venv\\lib\\site-packages (from scikit-learn->fiftyone) (1.4.0)\n",
      "Requirement already satisfied: threadpoolctl>=2.0.0 in d:\\dis\\.venv\\lib\\site-packages (from scikit-learn->fiftyone) (3.4.0)\n",
      "Requirement already satisfied: sniffio>=1.1 in d:\\dis\\.venv\\lib\\site-packages (from anyio<5,>=3.4.0->starlette>=0.24.0->fiftyone) (1.3.1)\n",
      "Requirement already satisfied: exceptiongroup>=1.0.2 in d:\\dis\\.venv\\lib\\site-packages (from anyio<5,>=3.4.0->starlette>=0.24.0->fiftyone) (1.2.0)\n",
      "Requirement already satisfied: hyperframe<7,>=6.0 in d:\\dis\\.venv\\lib\\site-packages (from h2>=3.1.0->hypercorn>=0.13.2->fiftyone) (6.0.1)\n",
      "Requirement already satisfied: hpack<5,>=4.0 in d:\\dis\\.venv\\lib\\site-packages (from h2>=3.1.0->hypercorn>=0.13.2->fiftyone) (4.0.0)\n",
      "Requirement already satisfied: httpcore==1.* in d:\\dis\\.venv\\lib\\site-packages (from httpx>=0.10.0->universal-analytics-python3<2,>=1.0.1->fiftyone) (1.0.5)\n",
      "Requirement already satisfied: attrs>=19.2.0 in d:\\dis\\.venv\\lib\\site-packages (from jsonlines->voxel51-eta<0.13,>=0.12.6->fiftyone) (23.2.0)\n",
      "Requirement already satisfied: texttable in d:\\dis\\.venv\\lib\\site-packages (from py7zr->voxel51-eta<0.13,>=0.12.6->fiftyone) (1.7.0)\n",
      "Requirement already satisfied: pycryptodomex>=3.16.0 in d:\\dis\\.venv\\lib\\site-packages (from py7zr->voxel51-eta<0.13,>=0.12.6->fiftyone) (3.20.0)\n",
      "Requirement already satisfied: pyzstd>=0.15.9 in d:\\dis\\.venv\\lib\\site-packages (from py7zr->voxel51-eta<0.13,>=0.12.6->fiftyone) (0.15.10)\n",
      "Requirement already satisfied: pyppmd<1.2.0,>=1.1.0 in d:\\dis\\.venv\\lib\\site-packages (from py7zr->voxel51-eta<0.13,>=0.12.6->fiftyone) (1.1.0)\n",
      "Requirement already satisfied: pybcj<1.1.0,>=1.0.0 in d:\\dis\\.venv\\lib\\site-packages (from py7zr->voxel51-eta<0.13,>=0.12.6->fiftyone) (1.0.2)\n",
      "Requirement already satisfied: multivolumefile>=0.2.3 in d:\\dis\\.venv\\lib\\site-packages (from py7zr->voxel51-eta<0.13,>=0.12.6->fiftyone) (0.2.3)\n",
      "Requirement already satisfied: inflate64<1.1.0,>=1.0.0 in d:\\dis\\.venv\\lib\\site-packages (from py7zr->voxel51-eta<0.13,>=0.12.6->fiftyone) (1.0.0)\n",
      "Requirement already satisfied: brotli>=1.1.0 in d:\\dis\\.venv\\lib\\site-packages (from py7zr->voxel51-eta<0.13,>=0.12.6->fiftyone) (1.1.0)\n",
      "Requirement already satisfied: mpmath>=0.19 in d:\\dis\\.venv\\lib\\site-packages (from sympy->torch>=1.8.0->ultralytics) (1.3.0)\n"
     ]
    }
   ],
   "source": [
    "!pip install fiftyone ultralytics"
   ]
  },
  {
   "cell_type": "code",
   "execution_count": 2,
   "metadata": {},
   "outputs": [
    {
     "ename": "KeyboardInterrupt",
     "evalue": "",
     "output_type": "error",
     "traceback": [
      "\u001b[1;31m---------------------------------------------------------------------------\u001b[0m",
      "\u001b[1;31mFileNotFoundError\u001b[0m                         Traceback (most recent call last)",
      "File \u001b[1;32m~\\AppData\\Local\\Programs\\Python\\Python310\\lib\\genericpath.py:30\u001b[0m, in \u001b[0;36misfile\u001b[1;34m(path)\u001b[0m\n\u001b[0;32m     29\u001b[0m \u001b[38;5;28;01mtry\u001b[39;00m:\n\u001b[1;32m---> 30\u001b[0m     st \u001b[38;5;241m=\u001b[39m \u001b[43mos\u001b[49m\u001b[38;5;241;43m.\u001b[39;49m\u001b[43mstat\u001b[49m\u001b[43m(\u001b[49m\u001b[43mpath\u001b[49m\u001b[43m)\u001b[49m\n\u001b[0;32m     31\u001b[0m \u001b[38;5;28;01mexcept\u001b[39;00m (\u001b[38;5;167;01mOSError\u001b[39;00m, \u001b[38;5;167;01mValueError\u001b[39;00m):\n",
      "\u001b[1;31mFileNotFoundError\u001b[0m: [WinError 2] Не удается найти указанный файл: 'd:\\\\dis\\\\.venv\\\\lib\\\\site-packages\\\\Cryptodome\\\\Util\\\\..\\\\Cipher\\\\_raw_aesni.cp310-win_amd64.pyd'",
      "\nDuring handling of the above exception, another exception occurred:\n",
      "\u001b[1;31mKeyboardInterrupt\u001b[0m                         Traceback (most recent call last)",
      "Cell \u001b[1;32mIn[2], line 1\u001b[0m\n\u001b[1;32m----> 1\u001b[0m \u001b[38;5;28;01mimport\u001b[39;00m \u001b[38;5;21;01mfiftyone\u001b[39;00m \u001b[38;5;28;01mas\u001b[39;00m \u001b[38;5;21;01mfo\u001b[39;00m\n\u001b[0;32m      3\u001b[0m dataset \u001b[38;5;241m=\u001b[39m fo\u001b[38;5;241m.\u001b[39mDataset\u001b[38;5;241m.\u001b[39mfrom_images_dir(\u001b[38;5;124m'\u001b[39m\u001b[38;5;124mD:\u001b[39m\u001b[38;5;124m\\\u001b[39m\u001b[38;5;124mdis\u001b[39m\u001b[38;5;124m\\\u001b[39m\u001b[38;5;124mdatasets\u001b[39m\u001b[38;5;124m\\\u001b[39m\u001b[38;5;124msummary — копия (2)\u001b[39m\u001b[38;5;124m'\u001b[39m)\n\u001b[0;32m      4\u001b[0m \u001b[38;5;66;03m# dataset = fo.Dataset.from_dir(\"D:\\dis\\datasets\\summary\\images\", dataset_type=fo.types.ImageClassificationDirectoryTree)\u001b[39;00m\n",
      "File \u001b[1;32md:\\dis\\.venv\\lib\\site-packages\\fiftyone\\__init__.py:25\u001b[0m\n\u001b[0;32m     21\u001b[0m \u001b[38;5;28;01mimport\u001b[39;00m \u001b[38;5;21;01mfiftyone\u001b[39;00m\u001b[38;5;21;01m.\u001b[39;00m\u001b[38;5;21;01mconstants\u001b[39;00m \u001b[38;5;28;01mas\u001b[39;00m \u001b[38;5;21;01m_foc\u001b[39;00m\n\u001b[0;32m     23\u001b[0m __version__ \u001b[38;5;241m=\u001b[39m _foc\u001b[38;5;241m.\u001b[39mVERSION\n\u001b[1;32m---> 25\u001b[0m \u001b[38;5;28;01mfrom\u001b[39;00m \u001b[38;5;21;01mfiftyone\u001b[39;00m\u001b[38;5;21;01m.\u001b[39;00m\u001b[38;5;21;01m__public__\u001b[39;00m \u001b[38;5;28;01mimport\u001b[39;00m \u001b[38;5;241m*\u001b[39m\n\u001b[0;32m     27\u001b[0m \u001b[38;5;28;01mimport\u001b[39;00m \u001b[38;5;21;01mfiftyone\u001b[39;00m\u001b[38;5;21;01m.\u001b[39;00m\u001b[38;5;21;01mcore\u001b[39;00m\u001b[38;5;21;01m.\u001b[39;00m\u001b[38;5;21;01mlogging\u001b[39;00m \u001b[38;5;28;01mas\u001b[39;00m \u001b[38;5;21;01m_fol\u001b[39;00m\n\u001b[0;32m     28\u001b[0m \u001b[38;5;28;01mimport\u001b[39;00m \u001b[38;5;21;01mfiftyone\u001b[39;00m\u001b[38;5;21;01m.\u001b[39;00m\u001b[38;5;21;01mmigrations\u001b[39;00m \u001b[38;5;28;01mas\u001b[39;00m \u001b[38;5;21;01m_fom\u001b[39;00m\n",
      "File \u001b[1;32md:\\dis\\.venv\\lib\\site-packages\\fiftyone\\__public__.py:8\u001b[0m\n\u001b[0;32m      1\u001b[0m \u001b[38;5;124;03m\"\"\"\u001b[39;00m\n\u001b[0;32m      2\u001b[0m \u001b[38;5;124;03mFiftyOne's public interface.\u001b[39;00m\n\u001b[0;32m      3\u001b[0m \n\u001b[1;32m   (...)\u001b[0m\n\u001b[0;32m      6\u001b[0m \u001b[38;5;124;03m|\u001b[39;00m\n\u001b[0;32m      7\u001b[0m \u001b[38;5;124;03m\"\"\"\u001b[39;00m\n\u001b[1;32m----> 8\u001b[0m \u001b[38;5;28;01mimport\u001b[39;00m \u001b[38;5;21;01mfiftyone\u001b[39;00m\u001b[38;5;21;01m.\u001b[39;00m\u001b[38;5;21;01mcore\u001b[39;00m\u001b[38;5;21;01m.\u001b[39;00m\u001b[38;5;21;01mconfig\u001b[39;00m \u001b[38;5;28;01mas\u001b[39;00m \u001b[38;5;21;01m_foc\u001b[39;00m\n\u001b[0;32m      9\u001b[0m \u001b[38;5;28;01mimport\u001b[39;00m \u001b[38;5;21;01mfiftyone\u001b[39;00m\u001b[38;5;21;01m.\u001b[39;00m\u001b[38;5;21;01mcore\u001b[39;00m\u001b[38;5;21;01m.\u001b[39;00m\u001b[38;5;21;01modm\u001b[39;00m \u001b[38;5;28;01mas\u001b[39;00m \u001b[38;5;21;01m_foo\u001b[39;00m\n\u001b[0;32m     11\u001b[0m config \u001b[38;5;241m=\u001b[39m _foc\u001b[38;5;241m.\u001b[39mload_config()\n",
      "File \u001b[1;32md:\\dis\\.venv\\lib\\site-packages\\fiftyone\\core\\config.py:18\u001b[0m\n\u001b[0;32m     14\u001b[0m     \u001b[38;5;28;01mimport\u001b[39;00m \u001b[38;5;21;01mimportlib_metadata\u001b[39;00m  \u001b[38;5;66;03m# Python < 3.8\u001b[39;00m\n\u001b[0;32m     16\u001b[0m \u001b[38;5;28;01mimport\u001b[39;00m \u001b[38;5;21;01mpytz\u001b[39;00m\n\u001b[1;32m---> 18\u001b[0m \u001b[38;5;28;01mimport\u001b[39;00m \u001b[38;5;21;01meta\u001b[39;00m\n\u001b[0;32m     19\u001b[0m \u001b[38;5;28;01mimport\u001b[39;00m \u001b[38;5;21;01meta\u001b[39;00m\u001b[38;5;21;01m.\u001b[39;00m\u001b[38;5;21;01mcore\u001b[39;00m\u001b[38;5;21;01m.\u001b[39;00m\u001b[38;5;21;01mconfig\u001b[39;00m \u001b[38;5;28;01mas\u001b[39;00m \u001b[38;5;21;01metac\u001b[39;00m\n\u001b[0;32m     21\u001b[0m \u001b[38;5;28;01mimport\u001b[39;00m \u001b[38;5;21;01mfiftyone\u001b[39;00m\u001b[38;5;21;01m.\u001b[39;00m\u001b[38;5;21;01mconstants\u001b[39;00m \u001b[38;5;28;01mas\u001b[39;00m \u001b[38;5;21;01mfoc\u001b[39;00m\n",
      "File \u001b[1;32md:\\dis\\.venv\\lib\\site-packages\\eta\\__init__.py:26\u001b[0m\n\u001b[0;32m     23\u001b[0m \u001b[38;5;28;01mimport\u001b[39;00m \u001b[38;5;21;01msys\u001b[39;00m\n\u001b[0;32m     25\u001b[0m \u001b[38;5;28;01mimport\u001b[39;00m \u001b[38;5;21;01meta\u001b[39;00m\u001b[38;5;21;01m.\u001b[39;00m\u001b[38;5;21;01mconstants\u001b[39;00m \u001b[38;5;28;01mas\u001b[39;00m \u001b[38;5;21;01metac\u001b[39;00m\n\u001b[1;32m---> 26\u001b[0m \u001b[38;5;28;01mfrom\u001b[39;00m \u001b[38;5;21;01meta\u001b[39;00m\u001b[38;5;21;01m.\u001b[39;00m\u001b[38;5;21;01mcore\u001b[39;00m\u001b[38;5;21;01m.\u001b[39;00m\u001b[38;5;21;01mconfig\u001b[39;00m \u001b[38;5;28;01mimport\u001b[39;00m Config, EnvConfig\n\u001b[0;32m     27\u001b[0m \u001b[38;5;28;01mimport\u001b[39;00m \u001b[38;5;21;01meta\u001b[39;00m\u001b[38;5;21;01m.\u001b[39;00m\u001b[38;5;21;01mcore\u001b[39;00m\u001b[38;5;21;01m.\u001b[39;00m\u001b[38;5;21;01mutils\u001b[39;00m \u001b[38;5;28;01mas\u001b[39;00m \u001b[38;5;21;01metau\u001b[39;00m\n\u001b[0;32m     30\u001b[0m logger \u001b[38;5;241m=\u001b[39m logging\u001b[38;5;241m.\u001b[39mgetLogger(\u001b[38;5;18m__name__\u001b[39m)\n",
      "File \u001b[1;32md:\\dis\\.venv\\lib\\site-packages\\eta\\core\\config.py:27\u001b[0m\n\u001b[0;32m     24\u001b[0m \u001b[38;5;28;01mimport\u001b[39;00m \u001b[38;5;21;01mos\u001b[39;00m\n\u001b[0;32m     25\u001b[0m \u001b[38;5;28;01mimport\u001b[39;00m \u001b[38;5;21;01msys\u001b[39;00m\n\u001b[1;32m---> 27\u001b[0m \u001b[38;5;28;01mimport\u001b[39;00m \u001b[38;5;21;01meta\u001b[39;00m\u001b[38;5;21;01m.\u001b[39;00m\u001b[38;5;21;01mcore\u001b[39;00m\u001b[38;5;21;01m.\u001b[39;00m\u001b[38;5;21;01mserial\u001b[39;00m \u001b[38;5;28;01mas\u001b[39;00m \u001b[38;5;21;01metas\u001b[39;00m\n\u001b[0;32m     28\u001b[0m \u001b[38;5;28;01mimport\u001b[39;00m \u001b[38;5;21;01meta\u001b[39;00m\u001b[38;5;21;01m.\u001b[39;00m\u001b[38;5;21;01mcore\u001b[39;00m\u001b[38;5;21;01m.\u001b[39;00m\u001b[38;5;21;01mutils\u001b[39;00m \u001b[38;5;28;01mas\u001b[39;00m \u001b[38;5;21;01metau\u001b[39;00m\n\u001b[0;32m     31\u001b[0m \u001b[38;5;28;01mclass\u001b[39;00m \u001b[38;5;21;01mNoDefault\u001b[39;00m(\u001b[38;5;28mobject\u001b[39m):\n",
      "File \u001b[1;32md:\\dis\\.venv\\lib\\site-packages\\eta\\core\\serial.py:40\u001b[0m\n\u001b[0;32m     37\u001b[0m \u001b[38;5;28;01mimport\u001b[39;00m \u001b[38;5;21;01mjsonlines\u001b[39;00m\n\u001b[0;32m     38\u001b[0m \u001b[38;5;28;01mimport\u001b[39;00m \u001b[38;5;21;01mnumpy\u001b[39;00m \u001b[38;5;28;01mas\u001b[39;00m \u001b[38;5;21;01mnp\u001b[39;00m\n\u001b[1;32m---> 40\u001b[0m \u001b[38;5;28;01mimport\u001b[39;00m \u001b[38;5;21;01meta\u001b[39;00m\u001b[38;5;21;01m.\u001b[39;00m\u001b[38;5;21;01mcore\u001b[39;00m\u001b[38;5;21;01m.\u001b[39;00m\u001b[38;5;21;01mutils\u001b[39;00m \u001b[38;5;28;01mas\u001b[39;00m \u001b[38;5;21;01metau\u001b[39;00m\n\u001b[0;32m     43\u001b[0m logger \u001b[38;5;241m=\u001b[39m logging\u001b[38;5;241m.\u001b[39mgetLogger(\u001b[38;5;18m__name__\u001b[39m)\n\u001b[0;32m     46\u001b[0m \u001b[38;5;28;01mdef\u001b[39;00m \u001b[38;5;21mload_json\u001b[39m(path_or_str):\n",
      "File \u001b[1;32md:\\dis\\.venv\\lib\\site-packages\\eta\\core\\utils.py:57\u001b[0m\n\u001b[0;32m     55\u001b[0m \u001b[38;5;28;01mimport\u001b[39;00m \u001b[38;5;21;01mos\u001b[39;00m\n\u001b[0;32m     56\u001b[0m \u001b[38;5;28;01mfrom\u001b[39;00m \u001b[38;5;21;01mpackaging\u001b[39;00m\u001b[38;5;21;01m.\u001b[39;00m\u001b[38;5;21;01mrequirements\u001b[39;00m \u001b[38;5;28;01mimport\u001b[39;00m Requirement\n\u001b[1;32m---> 57\u001b[0m \u001b[38;5;28;01mimport\u001b[39;00m \u001b[38;5;21;01mpy7zr\u001b[39;00m\n\u001b[0;32m     58\u001b[0m \u001b[38;5;28;01mimport\u001b[39;00m \u001b[38;5;21;01mpytz\u001b[39;00m\n\u001b[0;32m     59\u001b[0m \u001b[38;5;28;01mimport\u001b[39;00m \u001b[38;5;21;01mrandom\u001b[39;00m\n",
      "File \u001b[1;32md:\\dis\\.venv\\lib\\site-packages\\py7zr\\__init__.py:45\u001b[0m\n\u001b[0;32m     20\u001b[0m \u001b[38;5;28;01mfrom\u001b[39;00m \u001b[38;5;21;01mpy7zr\u001b[39;00m\u001b[38;5;21;01m.\u001b[39;00m\u001b[38;5;21;01mexceptions\u001b[39;00m \u001b[38;5;28;01mimport\u001b[39;00m Bad7zFile, DecompressionError, PasswordRequired, UnsupportedCompressionMethodError\n\u001b[0;32m     21\u001b[0m \u001b[38;5;28;01mfrom\u001b[39;00m \u001b[38;5;21;01mpy7zr\u001b[39;00m\u001b[38;5;21;01m.\u001b[39;00m\u001b[38;5;21;01mproperties\u001b[39;00m \u001b[38;5;28;01mimport\u001b[39;00m (\n\u001b[0;32m     22\u001b[0m     CHECK_CRC32,\n\u001b[0;32m     23\u001b[0m     CHECK_CRC64,\n\u001b[1;32m   (...)\u001b[0m\n\u001b[0;32m     43\u001b[0m     PRESET_EXTREME,\n\u001b[0;32m     44\u001b[0m )\n\u001b[1;32m---> 45\u001b[0m \u001b[38;5;28;01mfrom\u001b[39;00m \u001b[38;5;21;01mpy7zr\u001b[39;00m\u001b[38;5;21;01m.\u001b[39;00m\u001b[38;5;21;01mpy7zr\u001b[39;00m \u001b[38;5;28;01mimport\u001b[39;00m ArchiveInfo, FileInfo, SevenZipFile, is_7zfile, pack_7zarchive, unpack_7zarchive\n\u001b[0;32m     46\u001b[0m \u001b[38;5;28;01mfrom\u001b[39;00m \u001b[38;5;21;01mpy7zr\u001b[39;00m\u001b[38;5;21;01m.\u001b[39;00m\u001b[38;5;21;01mversion\u001b[39;00m \u001b[38;5;28;01mimport\u001b[39;00m __version__\n\u001b[0;32m     48\u001b[0m __copyright__ \u001b[38;5;241m=\u001b[39m \u001b[38;5;124m\"\u001b[39m\u001b[38;5;124mCopyright (C) 2019-2021 Hiroshi Miura\u001b[39m\u001b[38;5;124m\"\u001b[39m\n",
      "File \u001b[1;32md:\\dis\\.venv\\lib\\site-packages\\py7zr\\py7zr.py:45\u001b[0m\n\u001b[0;32m     41\u001b[0m \u001b[38;5;28;01mfrom\u001b[39;00m \u001b[38;5;21;01mtyping\u001b[39;00m \u001b[38;5;28;01mimport\u001b[39;00m IO, Any, BinaryIO, Collection, Dict, List, Optional, Tuple, Type, Union\n\u001b[0;32m     43\u001b[0m \u001b[38;5;28;01mimport\u001b[39;00m \u001b[38;5;21;01mmultivolumefile\u001b[39;00m\n\u001b[1;32m---> 45\u001b[0m \u001b[38;5;28;01mfrom\u001b[39;00m \u001b[38;5;21;01mpy7zr\u001b[39;00m\u001b[38;5;21;01m.\u001b[39;00m\u001b[38;5;21;01marchiveinfo\u001b[39;00m \u001b[38;5;28;01mimport\u001b[39;00m Folder, Header, SignatureHeader\n\u001b[0;32m     46\u001b[0m \u001b[38;5;28;01mfrom\u001b[39;00m \u001b[38;5;21;01mpy7zr\u001b[39;00m\u001b[38;5;21;01m.\u001b[39;00m\u001b[38;5;21;01mcallbacks\u001b[39;00m \u001b[38;5;28;01mimport\u001b[39;00m ExtractCallback\n\u001b[0;32m     47\u001b[0m \u001b[38;5;28;01mfrom\u001b[39;00m \u001b[38;5;21;01mpy7zr\u001b[39;00m\u001b[38;5;21;01m.\u001b[39;00m\u001b[38;5;21;01mcompressor\u001b[39;00m \u001b[38;5;28;01mimport\u001b[39;00m SupportedMethods, get_methods_names\n",
      "File \u001b[1;32md:\\dis\\.venv\\lib\\site-packages\\py7zr\\archiveinfo.py:36\u001b[0m\n\u001b[0;32m     33\u001b[0m \u001b[38;5;28;01mfrom\u001b[39;00m \u001b[38;5;21;01mstruct\u001b[39;00m \u001b[38;5;28;01mimport\u001b[39;00m pack, unpack\n\u001b[0;32m     34\u001b[0m \u001b[38;5;28;01mfrom\u001b[39;00m \u001b[38;5;21;01mtyping\u001b[39;00m \u001b[38;5;28;01mimport\u001b[39;00m Any, BinaryIO, Dict, List, Optional, Tuple, Union\n\u001b[1;32m---> 36\u001b[0m \u001b[38;5;28;01mfrom\u001b[39;00m \u001b[38;5;21;01mpy7zr\u001b[39;00m\u001b[38;5;21;01m.\u001b[39;00m\u001b[38;5;21;01mcompressor\u001b[39;00m \u001b[38;5;28;01mimport\u001b[39;00m SevenZipCompressor, SevenZipDecompressor\n\u001b[0;32m     37\u001b[0m \u001b[38;5;28;01mfrom\u001b[39;00m \u001b[38;5;21;01mpy7zr\u001b[39;00m\u001b[38;5;21;01m.\u001b[39;00m\u001b[38;5;21;01mexceptions\u001b[39;00m \u001b[38;5;28;01mimport\u001b[39;00m Bad7zFile\n\u001b[0;32m     38\u001b[0m \u001b[38;5;28;01mfrom\u001b[39;00m \u001b[38;5;21;01mpy7zr\u001b[39;00m\u001b[38;5;21;01m.\u001b[39;00m\u001b[38;5;21;01mhelpers\u001b[39;00m \u001b[38;5;28;01mimport\u001b[39;00m ArchiveTimestamp, calculate_crc32\n",
      "File \u001b[1;32md:\\dis\\.venv\\lib\\site-packages\\py7zr\\compressor.py:37\u001b[0m\n\u001b[0;32m     35\u001b[0m \u001b[38;5;28;01mimport\u001b[39;00m \u001b[38;5;21;01mpyppmd\u001b[39;00m\n\u001b[0;32m     36\u001b[0m \u001b[38;5;28;01mimport\u001b[39;00m \u001b[38;5;21;01mpyzstd\u001b[39;00m\n\u001b[1;32m---> 37\u001b[0m \u001b[38;5;28;01mfrom\u001b[39;00m \u001b[38;5;21;01mCryptodome\u001b[39;00m\u001b[38;5;21;01m.\u001b[39;00m\u001b[38;5;21;01mCipher\u001b[39;00m \u001b[38;5;28;01mimport\u001b[39;00m AES\n\u001b[0;32m     38\u001b[0m \u001b[38;5;28;01mfrom\u001b[39;00m \u001b[38;5;21;01mCryptodome\u001b[39;00m\u001b[38;5;21;01m.\u001b[39;00m\u001b[38;5;21;01mRandom\u001b[39;00m \u001b[38;5;28;01mimport\u001b[39;00m get_random_bytes\n\u001b[0;32m     40\u001b[0m \u001b[38;5;28;01mfrom\u001b[39;00m \u001b[38;5;21;01mpy7zr\u001b[39;00m\u001b[38;5;21;01m.\u001b[39;00m\u001b[38;5;21;01mexceptions\u001b[39;00m \u001b[38;5;28;01mimport\u001b[39;00m PasswordRequired, UnsupportedCompressionMethodError\n",
      "File \u001b[1;32md:\\dis\\.venv\\lib\\site-packages\\Cryptodome\\Cipher\\AES.py:70\u001b[0m\n\u001b[0;32m     68\u001b[0m     _raw_aesni_lib \u001b[38;5;241m=\u001b[39m \u001b[38;5;28;01mNone\u001b[39;00m\n\u001b[0;32m     69\u001b[0m     \u001b[38;5;28;01mif\u001b[39;00m _cpu_features\u001b[38;5;241m.\u001b[39mhave_aes_ni():\n\u001b[1;32m---> 70\u001b[0m         _raw_aesni_lib \u001b[38;5;241m=\u001b[39m \u001b[43mload_pycryptodome_raw_lib\u001b[49m\u001b[43m(\u001b[49m\u001b[38;5;124;43m\"\u001b[39;49m\u001b[38;5;124;43mCryptodome.Cipher._raw_aesni\u001b[39;49m\u001b[38;5;124;43m\"\u001b[39;49m\u001b[43m,\u001b[49m\n\u001b[0;32m     71\u001b[0m \u001b[43m                                                   \u001b[49m\u001b[43m_cproto\u001b[49m\u001b[38;5;241;43m.\u001b[39;49m\u001b[43mreplace\u001b[49m\u001b[43m(\u001b[49m\u001b[38;5;124;43m\"\u001b[39;49m\u001b[38;5;124;43mAES\u001b[39;49m\u001b[38;5;124;43m\"\u001b[39;49m\u001b[43m,\u001b[49m\n\u001b[0;32m     72\u001b[0m \u001b[43m                                                                   \u001b[49m\u001b[38;5;124;43m\"\u001b[39;49m\u001b[38;5;124;43mAESNI\u001b[39;49m\u001b[38;5;124;43m\"\u001b[39;49m\u001b[43m)\u001b[49m\u001b[43m)\u001b[49m\n\u001b[0;32m     73\u001b[0m \u001b[38;5;66;03m# _raw_aesni may not have been compiled in\u001b[39;00m\n\u001b[0;32m     74\u001b[0m \u001b[38;5;28;01mexcept\u001b[39;00m \u001b[38;5;167;01mOSError\u001b[39;00m:\n",
      "File \u001b[1;32md:\\dis\\.venv\\lib\\site-packages\\Cryptodome\\Util\\_raw_api.py:309\u001b[0m, in \u001b[0;36mload_pycryptodome_raw_lib\u001b[1;34m(name, cdecl)\u001b[0m\n\u001b[0;32m    307\u001b[0m filename \u001b[38;5;241m=\u001b[39m basename \u001b[38;5;241m+\u001b[39m ext\n\u001b[0;32m    308\u001b[0m full_name \u001b[38;5;241m=\u001b[39m pycryptodome_filename(dir_comps, filename)\n\u001b[1;32m--> 309\u001b[0m \u001b[38;5;28;01mif\u001b[39;00m \u001b[38;5;129;01mnot\u001b[39;00m \u001b[43mos\u001b[49m\u001b[38;5;241;43m.\u001b[39;49m\u001b[43mpath\u001b[49m\u001b[38;5;241;43m.\u001b[39;49m\u001b[43misfile\u001b[49m\u001b[43m(\u001b[49m\u001b[43mfull_name\u001b[49m\u001b[43m)\u001b[49m:\n\u001b[0;32m    310\u001b[0m     attempts\u001b[38;5;241m.\u001b[39mappend(\u001b[38;5;124m\"\u001b[39m\u001b[38;5;124mNot found \u001b[39m\u001b[38;5;124m'\u001b[39m\u001b[38;5;132;01m%s\u001b[39;00m\u001b[38;5;124m'\u001b[39m\u001b[38;5;124m\"\u001b[39m \u001b[38;5;241m%\u001b[39m filename)\n\u001b[0;32m    311\u001b[0m     \u001b[38;5;28;01mcontinue\u001b[39;00m\n",
      "File \u001b[1;32m~\\AppData\\Local\\Programs\\Python\\Python310\\lib\\genericpath.py:30\u001b[0m, in \u001b[0;36misfile\u001b[1;34m(path)\u001b[0m\n\u001b[0;32m     28\u001b[0m \u001b[38;5;250m\u001b[39m\u001b[38;5;124;03m\"\"\"Test whether a path is a regular file\"\"\"\u001b[39;00m\n\u001b[0;32m     29\u001b[0m \u001b[38;5;28;01mtry\u001b[39;00m:\n\u001b[1;32m---> 30\u001b[0m     st \u001b[38;5;241m=\u001b[39m \u001b[43mos\u001b[49m\u001b[38;5;241;43m.\u001b[39;49m\u001b[43mstat\u001b[49m\u001b[43m(\u001b[49m\u001b[43mpath\u001b[49m\u001b[43m)\u001b[49m\n\u001b[0;32m     31\u001b[0m \u001b[38;5;28;01mexcept\u001b[39;00m (\u001b[38;5;167;01mOSError\u001b[39;00m, \u001b[38;5;167;01mValueError\u001b[39;00m):\n\u001b[0;32m     32\u001b[0m     \u001b[38;5;28;01mreturn\u001b[39;00m \u001b[38;5;28;01mFalse\u001b[39;00m\n",
      "\u001b[1;31mKeyboardInterrupt\u001b[0m: "
     ]
    }
   ],
   "source": [
    "import fiftyone as fo\n",
    "\n",
    "dataset = fo.Dataset.from_images_dir('D:\\dis\\datasets\\summary — копия (2)')\n",
    "# dataset = fo.Dataset.from_dir(\"D:\\dis\\datasets\\summary\\images\", dataset_type=fo.types.ImageClassificationDirectoryTree)"
   ]
  },
  {
   "cell_type": "code",
   "execution_count": null,
   "metadata": {},
   "outputs": [
    {
     "name": "stdout",
     "output_type": "stream",
     "text": [
      " 100% |███████████| 120944/120944 [3.0h elapsed, 0s remaining, 20.1 samples/s]      \n",
      "(120944, 1280)\n"
     ]
    }
   ],
   "source": [
    "import fiftyone.zoo as foz\n",
    "\n",
    "model = foz.load_zoo_model(\"mobilenet-v2-imagenet-torch\")\n",
    "embeddings = dataset.compute_embeddings(model)\n",
    "\n",
    "print(embeddings.shape)"
   ]
  },
  {
   "cell_type": "code",
   "execution_count": null,
   "metadata": {},
   "outputs": [
    {
     "name": "stdout",
     "output_type": "stream",
     "text": [
      "(120944, 1280)\n"
     ]
    }
   ],
   "source": [
    "print(embeddings.shape)"
   ]
  },
  {
   "cell_type": "code",
   "execution_count": null,
   "metadata": {},
   "outputs": [
    {
     "data": {
      "text/plain": [
       "numpy.ndarray"
      ]
     },
     "execution_count": 16,
     "metadata": {},
     "output_type": "execute_result"
    }
   ],
   "source": [
    "type(embeddings)"
   ]
  },
  {
   "cell_type": "code",
   "execution_count": null,
   "metadata": {},
   "outputs": [
    {
     "name": "stdout",
     "output_type": "stream",
     "text": [
      "[0.5150708  0.         0.04963405 ... 0.         0.         0.10561092]\n"
     ]
    }
   ],
   "source": [
    "print(embeddings[1])"
   ]
  },
  {
   "cell_type": "code",
   "execution_count": null,
   "metadata": {},
   "outputs": [
    {
     "name": "stdout",
     "output_type": "stream",
     "text": [
      "Progress: 46 / 120944 del: 0\r"
     ]
    },
    {
     "ename": "KeyboardInterrupt",
     "evalue": "",
     "output_type": "error",
     "traceback": [
      "\u001b[1;31m---------------------------------------------------------------------------\u001b[0m",
      "\u001b[1;31mKeyboardInterrupt\u001b[0m                         Traceback (most recent call last)",
      "Cell \u001b[1;32mIn[20], line 12\u001b[0m\n\u001b[0;32m     10\u001b[0m \u001b[38;5;28;01mif\u001b[39;00m id_s \u001b[38;5;241m==\u001b[39m id_p:\n\u001b[0;32m     11\u001b[0m     \u001b[38;5;28;01mcontinue\u001b[39;00m\n\u001b[1;32m---> 12\u001b[0m \u001b[38;5;28;01mif\u001b[39;00m \u001b[43mcosine_similarity\u001b[49m\u001b[43m(\u001b[49m\u001b[43m[\u001b[49m\u001b[43msample\u001b[49m\u001b[43m]\u001b[49m\u001b[43m,\u001b[49m\u001b[43m \u001b[49m\u001b[43m[\u001b[49m\u001b[43mpair\u001b[49m\u001b[43m]\u001b[49m\u001b[43m)\u001b[49m \u001b[38;5;241m>\u001b[39m \u001b[38;5;241m0.90\u001b[39m:\n\u001b[0;32m     13\u001b[0m     count_simular \u001b[38;5;241m+\u001b[39m\u001b[38;5;241m=\u001b[39m \u001b[38;5;241m1\u001b[39m\n\u001b[0;32m     14\u001b[0m     \u001b[38;5;66;03m# embeddings_copy = np.delete(embeddings_copy, id_p)\u001b[39;00m\n",
      "File \u001b[1;32md:\\dis\\.venv\\lib\\site-packages\\sklearn\\utils\\_param_validation.py:213\u001b[0m, in \u001b[0;36mvalidate_params.<locals>.decorator.<locals>.wrapper\u001b[1;34m(*args, **kwargs)\u001b[0m\n\u001b[0;32m    207\u001b[0m \u001b[38;5;28;01mtry\u001b[39;00m:\n\u001b[0;32m    208\u001b[0m     \u001b[38;5;28;01mwith\u001b[39;00m config_context(\n\u001b[0;32m    209\u001b[0m         skip_parameter_validation\u001b[38;5;241m=\u001b[39m(\n\u001b[0;32m    210\u001b[0m             prefer_skip_nested_validation \u001b[38;5;129;01mor\u001b[39;00m global_skip_validation\n\u001b[0;32m    211\u001b[0m         )\n\u001b[0;32m    212\u001b[0m     ):\n\u001b[1;32m--> 213\u001b[0m         \u001b[38;5;28;01mreturn\u001b[39;00m func(\u001b[38;5;241m*\u001b[39margs, \u001b[38;5;241m*\u001b[39m\u001b[38;5;241m*\u001b[39mkwargs)\n\u001b[0;32m    214\u001b[0m \u001b[38;5;28;01mexcept\u001b[39;00m InvalidParameterError \u001b[38;5;28;01mas\u001b[39;00m e:\n\u001b[0;32m    215\u001b[0m     \u001b[38;5;66;03m# When the function is just a wrapper around an estimator, we allow\u001b[39;00m\n\u001b[0;32m    216\u001b[0m     \u001b[38;5;66;03m# the function to delegate validation to the estimator, but we replace\u001b[39;00m\n\u001b[0;32m    217\u001b[0m     \u001b[38;5;66;03m# the name of the estimator by the name of the function in the error\u001b[39;00m\n\u001b[0;32m    218\u001b[0m     \u001b[38;5;66;03m# message to avoid confusion.\u001b[39;00m\n\u001b[0;32m    219\u001b[0m     msg \u001b[38;5;241m=\u001b[39m re\u001b[38;5;241m.\u001b[39msub(\n\u001b[0;32m    220\u001b[0m         \u001b[38;5;124mr\u001b[39m\u001b[38;5;124m\"\u001b[39m\u001b[38;5;124mparameter of \u001b[39m\u001b[38;5;124m\\\u001b[39m\u001b[38;5;124mw+ must be\u001b[39m\u001b[38;5;124m\"\u001b[39m,\n\u001b[0;32m    221\u001b[0m         \u001b[38;5;124mf\u001b[39m\u001b[38;5;124m\"\u001b[39m\u001b[38;5;124mparameter of \u001b[39m\u001b[38;5;132;01m{\u001b[39;00mfunc\u001b[38;5;241m.\u001b[39m\u001b[38;5;18m__qualname__\u001b[39m\u001b[38;5;132;01m}\u001b[39;00m\u001b[38;5;124m must be\u001b[39m\u001b[38;5;124m\"\u001b[39m,\n\u001b[0;32m    222\u001b[0m         \u001b[38;5;28mstr\u001b[39m(e),\n\u001b[0;32m    223\u001b[0m     )\n",
      "File \u001b[1;32md:\\dis\\.venv\\lib\\site-packages\\sklearn\\metrics\\pairwise.py:1659\u001b[0m, in \u001b[0;36mcosine_similarity\u001b[1;34m(X, Y, dense_output)\u001b[0m\n\u001b[0;32m   1655\u001b[0m \u001b[38;5;66;03m# to avoid recursive import\u001b[39;00m\n\u001b[0;32m   1657\u001b[0m X, Y \u001b[38;5;241m=\u001b[39m check_pairwise_arrays(X, Y)\n\u001b[1;32m-> 1659\u001b[0m X_normalized \u001b[38;5;241m=\u001b[39m \u001b[43mnormalize\u001b[49m\u001b[43m(\u001b[49m\u001b[43mX\u001b[49m\u001b[43m,\u001b[49m\u001b[43m \u001b[49m\u001b[43mcopy\u001b[49m\u001b[38;5;241;43m=\u001b[39;49m\u001b[38;5;28;43;01mTrue\u001b[39;49;00m\u001b[43m)\u001b[49m\n\u001b[0;32m   1660\u001b[0m \u001b[38;5;28;01mif\u001b[39;00m X \u001b[38;5;129;01mis\u001b[39;00m Y:\n\u001b[0;32m   1661\u001b[0m     Y_normalized \u001b[38;5;241m=\u001b[39m X_normalized\n",
      "File \u001b[1;32md:\\dis\\.venv\\lib\\site-packages\\sklearn\\utils\\_param_validation.py:186\u001b[0m, in \u001b[0;36mvalidate_params.<locals>.decorator.<locals>.wrapper\u001b[1;34m(*args, **kwargs)\u001b[0m\n\u001b[0;32m    184\u001b[0m global_skip_validation \u001b[38;5;241m=\u001b[39m get_config()[\u001b[38;5;124m\"\u001b[39m\u001b[38;5;124mskip_parameter_validation\u001b[39m\u001b[38;5;124m\"\u001b[39m]\n\u001b[0;32m    185\u001b[0m \u001b[38;5;28;01mif\u001b[39;00m global_skip_validation:\n\u001b[1;32m--> 186\u001b[0m     \u001b[38;5;28;01mreturn\u001b[39;00m func(\u001b[38;5;241m*\u001b[39margs, \u001b[38;5;241m*\u001b[39m\u001b[38;5;241m*\u001b[39mkwargs)\n\u001b[0;32m    188\u001b[0m func_sig \u001b[38;5;241m=\u001b[39m signature(func)\n\u001b[0;32m    190\u001b[0m \u001b[38;5;66;03m# Map *args/**kwargs to the function signature\u001b[39;00m\n",
      "File \u001b[1;32md:\\dis\\.venv\\lib\\site-packages\\sklearn\\preprocessing\\_data.py:1962\u001b[0m, in \u001b[0;36mnormalize\u001b[1;34m(X, norm, axis, copy, return_norm)\u001b[0m\n\u001b[0;32m   1959\u001b[0m     norms \u001b[38;5;241m=\u001b[39m _handle_zeros_in_scale(norms, copy\u001b[38;5;241m=\u001b[39m\u001b[38;5;28;01mFalse\u001b[39;00m)\n\u001b[0;32m   1960\u001b[0m     X \u001b[38;5;241m/\u001b[39m\u001b[38;5;241m=\u001b[39m norms[:, \u001b[38;5;28;01mNone\u001b[39;00m]\n\u001b[1;32m-> 1962\u001b[0m \u001b[38;5;28;01mif\u001b[39;00m \u001b[43maxis\u001b[49m\u001b[43m \u001b[49m\u001b[38;5;241;43m==\u001b[39;49m\u001b[43m \u001b[49m\u001b[38;5;241;43m0\u001b[39;49m:\n\u001b[0;32m   1963\u001b[0m     X \u001b[38;5;241m=\u001b[39m X\u001b[38;5;241m.\u001b[39mT\n\u001b[0;32m   1965\u001b[0m \u001b[38;5;28;01mif\u001b[39;00m return_norm:\n",
      "\u001b[1;31mKeyboardInterrupt\u001b[0m: "
     ]
    }
   ],
   "source": [
    "from sklearn.metrics.pairwise import cosine_similarity\n",
    "import numpy as np\n",
    "\n",
    "embeddings_copy = embeddings.copy()\n",
    "count_simular = 0\n",
    "len_image = len(embeddings)\n",
    "\n",
    "for id_s, sample in enumerate(embeddings_copy):\n",
    "    for id_p, pair in enumerate(embeddings_copy):\n",
    "        if id_s == id_p:\n",
    "            continue\n",
    "        if cosine_similarity([sample], [pair]) > 0.90:\n",
    "            count_simular += 1\n",
    "            # embeddings_copy = np.delete(embeddings_copy, id_p)\n",
    "    print('Progress:', id_s, '/', len_image, 'del:', count_simular, end='\\r')"
   ]
  },
  {
   "cell_type": "code",
   "execution_count": null,
   "metadata": {},
   "outputs": [
    {
     "ename": "MemoryError",
     "evalue": "Unable to allocate 109. GiB for an array with shape (120944, 120944) and data type float64",
     "output_type": "error",
     "traceback": [
      "\u001b[1;31m---------------------------------------------------------------------------\u001b[0m",
      "\u001b[1;31mMemoryError\u001b[0m                               Traceback (most recent call last)",
      "Cell \u001b[1;32mIn[10], line 3\u001b[0m\n\u001b[0;32m      1\u001b[0m \u001b[38;5;28;01mfrom\u001b[39;00m \u001b[38;5;21;01msklearn\u001b[39;00m\u001b[38;5;21;01m.\u001b[39;00m\u001b[38;5;21;01mmetrics\u001b[39;00m\u001b[38;5;21;01m.\u001b[39;00m\u001b[38;5;21;01mpairwise\u001b[39;00m \u001b[38;5;28;01mimport\u001b[39;00m cosine_similarity\n\u001b[1;32m----> 3\u001b[0m similarity_matrix \u001b[38;5;241m=\u001b[39m \u001b[43mcosine_similarity\u001b[49m\u001b[43m(\u001b[49m\u001b[43membeddings\u001b[49m\u001b[43m)\u001b[49m\n\u001b[0;32m      5\u001b[0m \u001b[38;5;28mprint\u001b[39m(similarity_matrix\u001b[38;5;241m.\u001b[39mshape)\n",
      "File \u001b[1;32md:\\dis\\.venv\\lib\\site-packages\\sklearn\\utils\\_param_validation.py:213\u001b[0m, in \u001b[0;36mvalidate_params.<locals>.decorator.<locals>.wrapper\u001b[1;34m(*args, **kwargs)\u001b[0m\n\u001b[0;32m    207\u001b[0m \u001b[38;5;28;01mtry\u001b[39;00m:\n\u001b[0;32m    208\u001b[0m     \u001b[38;5;28;01mwith\u001b[39;00m config_context(\n\u001b[0;32m    209\u001b[0m         skip_parameter_validation\u001b[38;5;241m=\u001b[39m(\n\u001b[0;32m    210\u001b[0m             prefer_skip_nested_validation \u001b[38;5;129;01mor\u001b[39;00m global_skip_validation\n\u001b[0;32m    211\u001b[0m         )\n\u001b[0;32m    212\u001b[0m     ):\n\u001b[1;32m--> 213\u001b[0m         \u001b[38;5;28;01mreturn\u001b[39;00m func(\u001b[38;5;241m*\u001b[39margs, \u001b[38;5;241m*\u001b[39m\u001b[38;5;241m*\u001b[39mkwargs)\n\u001b[0;32m    214\u001b[0m \u001b[38;5;28;01mexcept\u001b[39;00m InvalidParameterError \u001b[38;5;28;01mas\u001b[39;00m e:\n\u001b[0;32m    215\u001b[0m     \u001b[38;5;66;03m# When the function is just a wrapper around an estimator, we allow\u001b[39;00m\n\u001b[0;32m    216\u001b[0m     \u001b[38;5;66;03m# the function to delegate validation to the estimator, but we replace\u001b[39;00m\n\u001b[0;32m    217\u001b[0m     \u001b[38;5;66;03m# the name of the estimator by the name of the function in the error\u001b[39;00m\n\u001b[0;32m    218\u001b[0m     \u001b[38;5;66;03m# message to avoid confusion.\u001b[39;00m\n\u001b[0;32m    219\u001b[0m     msg \u001b[38;5;241m=\u001b[39m re\u001b[38;5;241m.\u001b[39msub(\n\u001b[0;32m    220\u001b[0m         \u001b[38;5;124mr\u001b[39m\u001b[38;5;124m\"\u001b[39m\u001b[38;5;124mparameter of \u001b[39m\u001b[38;5;124m\\\u001b[39m\u001b[38;5;124mw+ must be\u001b[39m\u001b[38;5;124m\"\u001b[39m,\n\u001b[0;32m    221\u001b[0m         \u001b[38;5;124mf\u001b[39m\u001b[38;5;124m\"\u001b[39m\u001b[38;5;124mparameter of \u001b[39m\u001b[38;5;132;01m{\u001b[39;00mfunc\u001b[38;5;241m.\u001b[39m\u001b[38;5;18m__qualname__\u001b[39m\u001b[38;5;132;01m}\u001b[39;00m\u001b[38;5;124m must be\u001b[39m\u001b[38;5;124m\"\u001b[39m,\n\u001b[0;32m    222\u001b[0m         \u001b[38;5;28mstr\u001b[39m(e),\n\u001b[0;32m    223\u001b[0m     )\n",
      "File \u001b[1;32md:\\dis\\.venv\\lib\\site-packages\\sklearn\\metrics\\pairwise.py:1665\u001b[0m, in \u001b[0;36mcosine_similarity\u001b[1;34m(X, Y, dense_output)\u001b[0m\n\u001b[0;32m   1662\u001b[0m \u001b[38;5;28;01melse\u001b[39;00m:\n\u001b[0;32m   1663\u001b[0m     Y_normalized \u001b[38;5;241m=\u001b[39m normalize(Y, copy\u001b[38;5;241m=\u001b[39m\u001b[38;5;28;01mTrue\u001b[39;00m)\n\u001b[1;32m-> 1665\u001b[0m K \u001b[38;5;241m=\u001b[39m \u001b[43msafe_sparse_dot\u001b[49m\u001b[43m(\u001b[49m\u001b[43mX_normalized\u001b[49m\u001b[43m,\u001b[49m\u001b[43m \u001b[49m\u001b[43mY_normalized\u001b[49m\u001b[38;5;241;43m.\u001b[39;49m\u001b[43mT\u001b[49m\u001b[43m,\u001b[49m\u001b[43m \u001b[49m\u001b[43mdense_output\u001b[49m\u001b[38;5;241;43m=\u001b[39;49m\u001b[43mdense_output\u001b[49m\u001b[43m)\u001b[49m\n\u001b[0;32m   1667\u001b[0m \u001b[38;5;28;01mreturn\u001b[39;00m K\n",
      "File \u001b[1;32md:\\dis\\.venv\\lib\\site-packages\\sklearn\\utils\\extmath.py:208\u001b[0m, in \u001b[0;36msafe_sparse_dot\u001b[1;34m(a, b, dense_output)\u001b[0m\n\u001b[0;32m    206\u001b[0m         ret \u001b[38;5;241m=\u001b[39m np\u001b[38;5;241m.\u001b[39mdot(a, b)\n\u001b[0;32m    207\u001b[0m \u001b[38;5;28;01melse\u001b[39;00m:\n\u001b[1;32m--> 208\u001b[0m     ret \u001b[38;5;241m=\u001b[39m \u001b[43ma\u001b[49m\u001b[43m \u001b[49m\u001b[38;5;241;43m@\u001b[39;49m\u001b[43m \u001b[49m\u001b[43mb\u001b[49m\n\u001b[0;32m    210\u001b[0m \u001b[38;5;28;01mif\u001b[39;00m (\n\u001b[0;32m    211\u001b[0m     sparse\u001b[38;5;241m.\u001b[39missparse(a)\n\u001b[0;32m    212\u001b[0m     \u001b[38;5;129;01mand\u001b[39;00m sparse\u001b[38;5;241m.\u001b[39missparse(b)\n\u001b[0;32m    213\u001b[0m     \u001b[38;5;129;01mand\u001b[39;00m dense_output\n\u001b[0;32m    214\u001b[0m     \u001b[38;5;129;01mand\u001b[39;00m \u001b[38;5;28mhasattr\u001b[39m(ret, \u001b[38;5;124m\"\u001b[39m\u001b[38;5;124mtoarray\u001b[39m\u001b[38;5;124m\"\u001b[39m)\n\u001b[0;32m    215\u001b[0m ):\n\u001b[0;32m    216\u001b[0m     \u001b[38;5;28;01mreturn\u001b[39;00m ret\u001b[38;5;241m.\u001b[39mtoarray()\n",
      "\u001b[1;31mMemoryError\u001b[0m: Unable to allocate 109. GiB for an array with shape (120944, 120944) and data type float64"
     ]
    }
   ],
   "source": [
    "# from sklearn.metrics.pairwise import cosine_similarity\n",
    "\n",
    "# similarity_matrix = cosine_similarity(embeddings)\n",
    "\n",
    "# print(similarity_matrix.shape)"
   ]
  }
 ],
 "metadata": {
  "kernelspec": {
   "display_name": ".venv",
   "language": "python",
   "name": "python3"
  },
  "language_info": {
   "codemirror_mode": {
    "name": "ipython",
    "version": 3
   },
   "file_extension": ".py",
   "mimetype": "text/x-python",
   "name": "python",
   "nbconvert_exporter": "python",
   "pygments_lexer": "ipython3",
   "version": "3.10.11"
  }
 },
 "nbformat": 4,
 "nbformat_minor": 2
}
